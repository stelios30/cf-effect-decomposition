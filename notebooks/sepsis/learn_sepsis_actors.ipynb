{
 "cells": [
  {
   "cell_type": "code",
   "execution_count": null,
   "metadata": {},
   "outputs": [],
   "source": [
    "%load_ext autoreload\n",
    "%autoreload 2"
   ]
  },
  {
   "cell_type": "markdown",
   "metadata": {},
   "source": [
    "# Learning Sepsis Policies\n",
    "\n",
    "In this notebook, we learn two policies which solve the sepsis environment, one for AI agent and one for human clinician."
   ]
  },
  {
   "cell_type": "code",
   "execution_count": 2,
   "metadata": {},
   "outputs": [],
   "source": [
    "import pickle\n",
    "import numpy as np\n",
    "import pandas as pd\n",
    "import seaborn as sns\n",
    "import mdptoolbox as mdp\n",
    "import matplotlib.pyplot as plt"
   ]
  },
  {
   "cell_type": "code",
   "execution_count": 3,
   "metadata": {},
   "outputs": [],
   "source": [
    "from pathlib import Path\n",
    "from typing import List\n",
    "from matplotlib.ticker import FormatStrFormatter\n",
    "from rich.jupyter import print"
   ]
  },
  {
   "cell_type": "code",
   "execution_count": 4,
   "metadata": {},
   "outputs": [],
   "source": [
    "from ced.actors.sepsis import SepsisActor, SepsisAction, ClinicianActor, AIActor\n",
    "from ced.envs.sepsis import Sepsis, SepsisTrajectory, State\n",
    "from ced.tools.utils import sample_trajectories, export_legend\n",
    "from ced.tools.order import Order\n",
    "from ced.tools.noise import UniformNoiseModel, SepsisStateUniformNoiseModel"
   ]
  },
  {
   "cell_type": "code",
   "execution_count": 5,
   "metadata": {},
   "outputs": [],
   "source": [
    "_ = sns.set_theme(\n",
    "    style=\"white\", context=\"paper\",\n",
    "    palette=\"muted\",\n",
    "    rc={\n",
    "        \"pdf.fonttype\": 42,\n",
    "        \"ps.fonttype\": 42,\n",
    "        \"font.size\": 25,\n",
    "        \"axes.titlesize\": 25,\n",
    "        \"axes.labelsize\": 25,\n",
    "        \"xtick.labelsize\": 20,\n",
    "        \"ytick.labelsize\": 20,\n",
    "        \"legend.fontsize\": 20,\n",
    "        \"legend.columnspacing\": 1,\n",
    "        \"legend.title_fontsize\": 20,\n",
    "        \"figure.figsize\": (6.4, 6.4),\n",
    "    },\n",
    ")"
   ]
  },
  {
   "cell_type": "code",
   "execution_count": 6,
   "metadata": {},
   "outputs": [],
   "source": [
    "seed = 5592\n",
    "max_horizon = 20\n",
    "discount = 0.99\n",
    "rng = np.random.default_rng(seed)\n",
    "\n",
    "ai_policy_path = Path(\"./results/sepsis/ai_policy.pkl\")\n",
    "cl_policy_path = Path(\"./results/sepsis/cl_policy.pkl\")\n",
    "\n",
    "original_mdp_path = Path(\"./results/sepsis/mdp_original.pkl\")\n",
    "ai_mdp_path = Path(\"./results/sepsis/mdp_ai.pkl\")\n",
    "cl_mdp_path = original_mdp_path\n",
    "\n",
    "plots_dir = Path(\"./plots/sepsis\")\n",
    "\n",
    "palette = {\"AI\": \"#ffa743\", \"Clinician\": \"#cd4e24\", \"Random\": \"#cc8926\", \"no change\": \"#e69a2b\", \"death\": \"#e61a34\", \"discharge\": \"#009622\"}\n",
    "\n",
    "plt_skip_legend = True\n",
    "\n",
    "plt_discrepancy_title = None\n",
    "plt_discrepancy_legend_title = None\n",
    "plt_discrepancy_x_label = \"Action\"\n",
    "plt_discrepancy_y_label = \"Probability\"\n",
    "\n",
    "plt_rewards_title = None\n",
    "plt_rewards_x_label = \"Policy\"\n",
    "plt_rewards_y_label = \"Fraction of Outcomes\"\n",
    "plt_rewards_legend_title = None"
   ]
  },
  {
   "cell_type": "code",
   "execution_count": 7,
   "metadata": {},
   "outputs": [],
   "source": [
    "def get_stats(trajectories: List[SepsisTrajectory]):\n",
    "    return {\n",
    "        \"success\": sum([bool(t.outcome() == 1.0) for t in trajectories]),\n",
    "        \"failure\": sum([bool(t.outcome() != 1.0) for t in trajectories]),\n",
    "        \"total\": len(trajectories),\n",
    "    }"
   ]
  },
  {
   "cell_type": "markdown",
   "metadata": {},
   "source": [
    "## Random Actor\n",
    "\n",
    "To have a baseline agent to compare learned policies to, we first examine the performance of a random agent."
   ]
  },
  {
   "cell_type": "code",
   "execution_count": 8,
   "metadata": {},
   "outputs": [],
   "source": [
    "env = Sepsis(transition_probabilities=\"./assets/sepsis/sepsis_transition_probs_original.json\", max_horizon=max_horizon)\n",
    "actor_cl = SepsisActor(id=0, rng=rng)\n",
    "trajectories = sample_trajectories(env=env, agents=[actor_cl], num_trajectories=100, rng=rng)\n",
    "stats = get_stats(trajectories)\n",
    "rew_values, rew_counts = np.unique([sum([s.reward for s in t.states]) for t in trajectories], return_counts=True)"
   ]
  },
  {
   "cell_type": "code",
   "execution_count": 9,
   "metadata": {},
   "outputs": [
    {
     "data": {
      "text/html": [
       "<pre style=\"white-space:pre;overflow-x:auto;line-height:normal;font-family:Menlo,'DejaVu Sans Mono',consolas,'Courier New',monospace\">Random agent achieved <span style=\"color: #008080; text-decoration-color: #008080; font-weight: bold\">22</span> successes and <span style=\"color: #008080; text-decoration-color: #008080; font-weight: bold\">78</span> failures in <span style=\"color: #008080; text-decoration-color: #008080; font-weight: bold\">100</span> trajectories.\n",
       "</pre>\n"
      ],
      "text/plain": [
       "Random agent achieved \u001b[1;36m22\u001b[0m successes and \u001b[1;36m78\u001b[0m failures in \u001b[1;36m100\u001b[0m trajectories.\n"
      ]
     },
     "metadata": {},
     "output_type": "display_data"
    },
    {
     "data": {
      "text/html": [
       "<pre style=\"white-space:pre;overflow-x:auto;line-height:normal;font-family:Menlo,'DejaVu Sans Mono',consolas,'Courier New',monospace\">Random agent achieved rewards <span style=\"font-weight: bold\">[</span><span style=\"color: #008080; text-decoration-color: #008080; font-weight: bold\">-1.0</span>, <span style=\"color: #008080; text-decoration-color: #008080; font-weight: bold\">0.0</span>, <span style=\"color: #008080; text-decoration-color: #008080; font-weight: bold\">1.0</span><span style=\"font-weight: bold\">]</span> <span style=\"font-weight: bold\">(</span>death, max horizon reached, survival<span style=\"font-weight: bold\">)</span> with frequency <span style=\"font-weight: bold\">[</span><span style=\"color: #008080; text-decoration-color: #008080; font-weight: bold\">78</span>, <span style=\"color: #008080; text-decoration-color: #008080; font-weight: bold\">16</span>, <span style=\"color: #008080; text-decoration-color: #008080; font-weight: bold\">6</span><span style=\"font-weight: bold\">]</span>\n",
       "</pre>\n"
      ],
      "text/plain": [
       "Random agent achieved rewards \u001b[1m[\u001b[0m\u001b[1;36m-1.0\u001b[0m, \u001b[1;36m0.0\u001b[0m, \u001b[1;36m1.0\u001b[0m\u001b[1m]\u001b[0m \u001b[1m(\u001b[0mdeath, max horizon reached, survival\u001b[1m)\u001b[0m with frequency \u001b[1m[\u001b[0m\u001b[1;36m78\u001b[0m, \u001b[1;36m16\u001b[0m, \u001b[1;36m6\u001b[0m\u001b[1m]\u001b[0m\n"
      ]
     },
     "metadata": {},
     "output_type": "display_data"
    }
   ],
   "source": [
    "print(f\"Random agent achieved [bold]{stats['success']}[/] successes and [bold]{stats['failure']}[/] failures in [bold]{stats['success'] + stats['failure']}[/] trajectories.\")\n",
    "print(f\"Random agent achieved rewards {rew_values.tolist()} (death, max horizon reached, survival) with frequency {rew_counts.tolist()}\")"
   ]
  },
  {
   "cell_type": "markdown",
   "metadata": {},
   "source": [
    "## Human Clinician\n",
    "\n",
    "We learn the human clinician using the original transition probabilities of the environment. This ensures that the quality of the human policy is high."
   ]
  },
  {
   "cell_type": "markdown",
   "metadata": {},
   "source": [
    "We start by loading the transition and reward matrices from the exported file (see `learn_sepsis_mdp.ipynb` notebook for the export procedure)."
   ]
  },
  {
   "cell_type": "code",
   "execution_count": 10,
   "metadata": {},
   "outputs": [],
   "source": [
    "with open(cl_mdp_path, \"rb\") as f:\n",
    "    mdp_dynamics_cl = pickle.load(f)\n",
    "    P, R = mdp_dynamics_cl[\"transition_matrix\"], mdp_dynamics_cl[\"reward_matrix\"]"
   ]
  },
  {
   "cell_type": "markdown",
   "metadata": {},
   "source": [
    "Next, we run the policy iteration algorithm to find the optimal policy."
   ]
  },
  {
   "cell_type": "code",
   "execution_count": 11,
   "metadata": {},
   "outputs": [],
   "source": [
    "if not cl_policy_path.exists():\n",
    "    Pi = mdp.mdp.PolicyIteration(P, R, discount=discount, eval_type=1)\n",
    "    Pi.run()"
   ]
  },
  {
   "cell_type": "markdown",
   "metadata": {},
   "source": [
    "We convert the policy to matrix form, where each row represents a one-hot vector pointing to the action to be taken and save it to disk."
   ]
  },
  {
   "cell_type": "code",
   "execution_count": 12,
   "metadata": {},
   "outputs": [],
   "source": [
    "if not cl_policy_path.exists():\n",
    "    policy = np.zeros((State.NUM_TOTAL, SepsisAction.NUM_TOTAL))\n",
    "    policy[np.arange(len(Pi.policy)), Pi.policy] = 1\n",
    "    with open(cl_policy_path, \"wb\") as f: pickle.dump(policy, f)"
   ]
  },
  {
   "cell_type": "markdown",
   "metadata": {},
   "source": [
    "Finally, we can create an actor that utilizes the learned policy and examine its performance in the environment. Note that we always evaluate the actors on the original MDP."
   ]
  },
  {
   "cell_type": "code",
   "execution_count": 13,
   "metadata": {},
   "outputs": [],
   "source": [
    "act_noise = UniformNoiseModel(order=Order([i for i in range(SepsisAction.NUM_TOTAL)]))\n",
    "env_noise = SepsisStateUniformNoiseModel(order=Order([i for i in range(State.NUM_TOTAL)]))\n",
    "env = Sepsis(dynamics=original_mdp_path, max_horizon=max_horizon, act_noise_model=act_noise, env_noise_model=env_noise)\n",
    "actor_cl = SepsisActor(id=0, policy=cl_policy_path, rng=rng)\n",
    "trajectories = sample_trajectories(env=env, agents=[actor_cl], num_trajectories=100, rng=rng)\n",
    "stats = get_stats(trajectories)\n",
    "rew_values, rew_counts = np.unique([sum([s.reward for s in t.states]) for t in trajectories], return_counts=True)"
   ]
  },
  {
   "cell_type": "code",
   "execution_count": 14,
   "metadata": {},
   "outputs": [
    {
     "data": {
      "text/html": [
       "<pre style=\"white-space:pre;overflow-x:auto;line-height:normal;font-family:Menlo,'DejaVu Sans Mono',consolas,'Courier New',monospace\">Clinician achieved <span style=\"color: #008080; text-decoration-color: #008080; font-weight: bold\">94</span> successes and <span style=\"color: #008080; text-decoration-color: #008080; font-weight: bold\">6</span> failures in <span style=\"color: #008080; text-decoration-color: #008080; font-weight: bold\">100</span> trajectories.\n",
       "</pre>\n"
      ],
      "text/plain": [
       "Clinician achieved \u001b[1;36m94\u001b[0m successes and \u001b[1;36m6\u001b[0m failures in \u001b[1;36m100\u001b[0m trajectories.\n"
      ]
     },
     "metadata": {},
     "output_type": "display_data"
    },
    {
     "data": {
      "text/html": [
       "<pre style=\"white-space:pre;overflow-x:auto;line-height:normal;font-family:Menlo,'DejaVu Sans Mono',consolas,'Courier New',monospace\">Clinician achieved rewards <span style=\"font-weight: bold\">[</span><span style=\"color: #008080; text-decoration-color: #008080; font-weight: bold\">-1.0</span>, <span style=\"color: #008080; text-decoration-color: #008080; font-weight: bold\">0.0</span>, <span style=\"color: #008080; text-decoration-color: #008080; font-weight: bold\">1.0</span><span style=\"font-weight: bold\">]</span> <span style=\"font-weight: bold\">(</span>death, max horizon reached, survival<span style=\"font-weight: bold\">)</span> with frequency <span style=\"font-weight: bold\">[</span><span style=\"color: #008080; text-decoration-color: #008080; font-weight: bold\">6</span>, <span style=\"color: #008080; text-decoration-color: #008080; font-weight: bold\">33</span>, <span style=\"color: #008080; text-decoration-color: #008080; font-weight: bold\">61</span><span style=\"font-weight: bold\">]</span>\n",
       "</pre>\n"
      ],
      "text/plain": [
       "Clinician achieved rewards \u001b[1m[\u001b[0m\u001b[1;36m-1.0\u001b[0m, \u001b[1;36m0.0\u001b[0m, \u001b[1;36m1.0\u001b[0m\u001b[1m]\u001b[0m \u001b[1m(\u001b[0mdeath, max horizon reached, survival\u001b[1m)\u001b[0m with frequency \u001b[1m[\u001b[0m\u001b[1;36m6\u001b[0m, \u001b[1;36m33\u001b[0m, \u001b[1;36m61\u001b[0m\u001b[1m]\u001b[0m\n"
      ]
     },
     "metadata": {},
     "output_type": "display_data"
    }
   ],
   "source": [
    "print(f\"Clinician achieved [bold]{stats['success']}[/] successes and [bold]{stats['failure']}[/] failures in [bold]{stats['success'] + stats['failure']}[/] trajectories.\")\n",
    "print(f\"Clinician achieved rewards {rew_values.tolist()} (death, max horizon reached, survival) with frequency {rew_counts.tolist()}\")"
   ]
  },
  {
   "cell_type": "markdown",
   "metadata": {},
   "source": [
    "## AI Policy\n",
    "\n",
    "Using the exact same procedure as the for human clinician, we learn the AI policy. However, instead of using the original probabilities, we utilize an alternative set of probabilities intended to make the AI policy different to the human policy (see also `learn_sepsis_mdp.ipynb` for details). Apart from the the next cell (which loads different transition matrix), remainder of the process is equivalent to what we've done so far."
   ]
  },
  {
   "cell_type": "code",
   "execution_count": 15,
   "metadata": {},
   "outputs": [],
   "source": [
    "with open(ai_mdp_path, \"rb\") as f:\n",
    "    mdp_dynamics_ai = pickle.load(f)\n",
    "    P, R = mdp_dynamics_ai[\"transition_matrix\"], mdp_dynamics_ai[\"reward_matrix\"]"
   ]
  },
  {
   "cell_type": "code",
   "execution_count": 16,
   "metadata": {},
   "outputs": [],
   "source": [
    "if not ai_policy_path.exists():\n",
    "    Pi = mdp.mdp.PolicyIteration(P, R, discount=discount, eval_type=1)\n",
    "    Pi.run()"
   ]
  },
  {
   "cell_type": "code",
   "execution_count": 17,
   "metadata": {},
   "outputs": [],
   "source": [
    "if not ai_policy_path.exists():\n",
    "    policy = np.zeros((State.NUM_TOTAL, SepsisAction.NUM_TOTAL))\n",
    "    policy[np.arange(len(Pi.policy)), Pi.policy] = 1\n",
    "    with open(ai_policy_path, \"wb\") as f: pickle.dump(policy, f)"
   ]
  },
  {
   "cell_type": "code",
   "execution_count": 18,
   "metadata": {},
   "outputs": [],
   "source": [
    "act_noise = UniformNoiseModel(order=Order([i for i in range(SepsisAction.NUM_TOTAL)]))\n",
    "env_noise = SepsisStateUniformNoiseModel(order=Order([i for i in range(State.NUM_TOTAL)]))\n",
    "env = Sepsis(dynamics=original_mdp_path, max_horizon=max_horizon, act_noise_model=act_noise, env_noise_model=env_noise) # we evaluate the actor using the original environment dynamics\n",
    "actor_ai = SepsisActor(id=0, policy=ai_policy_path, rng=rng)\n",
    "trajectories = sample_trajectories(env=env, agents=[actor_ai], num_trajectories=100, rng=rng)\n",
    "stats = get_stats(trajectories)\n",
    "rew_values, rew_counts = np.unique([sum([s.reward for s in t.states]) for t in trajectories], return_counts=True)"
   ]
  },
  {
   "cell_type": "code",
   "execution_count": 19,
   "metadata": {},
   "outputs": [
    {
     "data": {
      "text/html": [
       "<pre style=\"white-space:pre;overflow-x:auto;line-height:normal;font-family:Menlo,'DejaVu Sans Mono',consolas,'Courier New',monospace\">AI achieved <span style=\"color: #008080; text-decoration-color: #008080; font-weight: bold\">96</span> successes and <span style=\"color: #008080; text-decoration-color: #008080; font-weight: bold\">4</span> failures in <span style=\"color: #008080; text-decoration-color: #008080; font-weight: bold\">100</span> trajectories.\n",
       "</pre>\n"
      ],
      "text/plain": [
       "AI achieved \u001b[1;36m96\u001b[0m successes and \u001b[1;36m4\u001b[0m failures in \u001b[1;36m100\u001b[0m trajectories.\n"
      ]
     },
     "metadata": {},
     "output_type": "display_data"
    },
    {
     "data": {
      "text/html": [
       "<pre style=\"white-space:pre;overflow-x:auto;line-height:normal;font-family:Menlo,'DejaVu Sans Mono',consolas,'Courier New',monospace\">AI achieved rewards <span style=\"font-weight: bold\">[</span><span style=\"color: #008080; text-decoration-color: #008080; font-weight: bold\">-1.0</span>, <span style=\"color: #008080; text-decoration-color: #008080; font-weight: bold\">0.0</span>, <span style=\"color: #008080; text-decoration-color: #008080; font-weight: bold\">1.0</span><span style=\"font-weight: bold\">]</span> <span style=\"font-weight: bold\">(</span>death, max horizon reached, survival<span style=\"font-weight: bold\">)</span> with frequency <span style=\"font-weight: bold\">[</span><span style=\"color: #008080; text-decoration-color: #008080; font-weight: bold\">4</span>, <span style=\"color: #008080; text-decoration-color: #008080; font-weight: bold\">48</span>, <span style=\"color: #008080; text-decoration-color: #008080; font-weight: bold\">48</span><span style=\"font-weight: bold\">]</span>\n",
       "</pre>\n"
      ],
      "text/plain": [
       "AI achieved rewards \u001b[1m[\u001b[0m\u001b[1;36m-1.0\u001b[0m, \u001b[1;36m0.0\u001b[0m, \u001b[1;36m1.0\u001b[0m\u001b[1m]\u001b[0m \u001b[1m(\u001b[0mdeath, max horizon reached, survival\u001b[1m)\u001b[0m with frequency \u001b[1m[\u001b[0m\u001b[1;36m4\u001b[0m, \u001b[1;36m48\u001b[0m, \u001b[1;36m48\u001b[0m\u001b[1m]\u001b[0m\n"
      ]
     },
     "metadata": {},
     "output_type": "display_data"
    }
   ],
   "source": [
    "print(f\"AI achieved [bold]{stats['success']}[/] successes and [bold]{stats['failure']}[/] failures in [bold]{stats['success'] + stats['failure']}[/] trajectories.\")\n",
    "print(f\"AI achieved rewards {rew_values.tolist()} (death, max horizon reached, survival) with frequency {rew_counts.tolist()}\")"
   ]
  },
  {
   "cell_type": "markdown",
   "metadata": {},
   "source": [
    "## Comparison of Policies\n",
    "\n",
    "To better understand if and how two policies differ, we perform a brief analysis."
   ]
  },
  {
   "cell_type": "code",
   "execution_count": 20,
   "metadata": {},
   "outputs": [
    {
     "data": {
      "text/html": [
       "<pre style=\"white-space:pre;overflow-x:auto;line-height:normal;font-family:Menlo,'DejaVu Sans Mono',consolas,'Courier New',monospace\">There is <span style=\"color: #008080; text-decoration-color: #008080; font-weight: bold\">18.06</span>% difference in actions taken by clinician and AI policies.\n",
       "</pre>\n"
      ],
      "text/plain": [
       "There is \u001b[1;36m18.06\u001b[0m% difference in actions taken by clinician and AI policies.\n"
      ]
     },
     "metadata": {},
     "output_type": "display_data"
    }
   ],
   "source": [
    "actions_ai = actor_ai.policy_map.argmax(axis=-1)\n",
    "actions_cl = actor_cl.policy_map.argmax(axis=-1)\n",
    "actions_diff = (actions_ai != actions_cl).astype(int).mean()\n",
    "print(f\"There is {actions_diff * 100:.2f}% difference in actions taken by clinician and AI policies.\")"
   ]
  },
  {
   "cell_type": "markdown",
   "metadata": {},
   "source": [
    "Continuing, we plot a histogram of actions for both AI and clinician policies, to visually inspect the observed difference. For each action (a combination of antibiotics (A), vasopressors (V) and ventilators (E)) we plot the number of times both policies select the respective action."
   ]
  },
  {
   "cell_type": "code",
   "execution_count": 21,
   "metadata": {},
   "outputs": [
    {
     "data": {
      "image/png": "[encoded data removed]",
      "text/plain": [
       "<Figure size 700x700 with 1 Axes>"
      ]
     },
     "metadata": {},
     "output_type": "display_data"
    }
   ],
   "source": [
    "df_actions_ai = pd.DataFrame([{\"policy\": \"AI\", \"action\": actions_ai[i].item(), \"state\": i} for i in range(State.NUM_TOTAL)])\n",
    "df_actions_cl = pd.DataFrame([{\"policy\": \"Clinician\", \"action\": actions_cl[i].item(), \"state\": i} for i in range(State.NUM_TOTAL)])\n",
    "\n",
    "fig, ax = plt.subplots(figsize=(7, 7))\n",
    "_ = sns.histplot(data=pd.concat([df_actions_ai, df_actions_cl]), x=\"action\", stat=\"probability\", hue=\"policy\", multiple=\"dodge\", shrink=0.85, palette=palette, discrete=True, alpha=1.0, cumulative=False, common_bins=False, common_norm=False, ax=ax)\n",
    "_ = ax.set_xticks(range(SepsisAction.NUM_TOTAL), labels=[str(SepsisAction.from_index(i)) for i in range(SepsisAction.NUM_TOTAL)])\n",
    "_ = ax.set_title(plt_discrepancy_title)\n",
    "_ = ax.set_xlabel(plt_discrepancy_x_label)\n",
    "_ = ax.set_ylabel(plt_discrepancy_y_label)\n",
    "_ = ax.get_legend().set_title(plt_discrepancy_legend_title)\n",
    "_ = ax.yaxis.set_major_formatter(FormatStrFormatter('%.2f'))\n",
    "\n",
    "# separately exports legend\n",
    "if not plt_skip_legend:\n",
    "    legend_fig, legend = export_legend(fig, ax)\n",
    "    legend_fig.savefig(plots_dir / \"plt_agents_discrepancy-legend.pdf\", bbox_inches=legend.get_window_extent().transformed(legend_fig.dpi_scale_trans.inverted()), bbox_extra_artists=[legend])\n",
    "\n",
    "fig.savefig(plots_dir / \"plt_agents_discrepancy.pdf\", bbox_inches=\"tight\")"
   ]
  },
  {
   "cell_type": "markdown",
   "metadata": {},
   "source": [
    "## Evaluation of Policies\n",
    "\n",
    "We record the mean reward of the AI and CL policies using the ground-truth simulator over 1000 sampled trajectories."
   ]
  },
  {
   "cell_type": "code",
   "execution_count": 22,
   "metadata": {},
   "outputs": [],
   "source": [
    "actor_ai = AIActor(id=0, policy=ai_policy_path, rng=rng)\n",
    "actor_cl = ClinicianActor(id=0, policy=cl_policy_path, rng=rng)\n",
    "actor_rd = SepsisActor(id=0, rng=rng)\n",
    "env = Sepsis(transition_probabilities=\"./assets/sepsis/sepsis_transition_probs_original.json\", max_horizon=max_horizon)\n",
    "num_trajectories = 1000\n",
    "discount = 1"
   ]
  },
  {
   "cell_type": "code",
   "execution_count": 23,
   "metadata": {},
   "outputs": [],
   "source": [
    "trajectories_ai = sample_trajectories(env=env, agents=[actor_ai], num_trajectories=num_trajectories, rng=rng)\n",
    "trajectories_cl = sample_trajectories(env=env, agents=[actor_cl], num_trajectories=num_trajectories, rng=rng)\n",
    "trajectories_rd = sample_trajectories(env=env, agents=[actor_rd], num_trajectories=num_trajectories, rng=rng)\n",
    "stats_ai, stats_cl, stats_rd = get_stats(trajectories_ai), get_stats(trajectories_cl), get_stats(trajectories_rd)"
   ]
  },
  {
   "cell_type": "code",
   "execution_count": 24,
   "metadata": {},
   "outputs": [],
   "source": [
    "rewards_ai = [{\"agent\": \"AI\", \"reward\": t.total_reward(discount=discount)} for t in trajectories_ai]\n",
    "rewards_cl = [{\"agent\": \"Clinician\", \"reward\": t.total_reward(discount=discount)} for t in trajectories_cl]\n",
    "rewards_rd = [{\"agent\": \"Random\", \"reward\": t.total_reward(discount=discount)} for t in trajectories_rd]"
   ]
  },
  {
   "cell_type": "code",
   "execution_count": 25,
   "metadata": {},
   "outputs": [
    {
     "data": {
      "image/png": "[encoded data removed]",
      "text/plain": [
       "<Figure size 700x700 with 1 Axes>"
      ]
     },
     "metadata": {},
     "output_type": "display_data"
    }
   ],
   "source": [
    "df = pd.DataFrame(rewards_ai + rewards_cl + rewards_rd)\n",
    "df.reward = pd.Categorical(df.reward, categories=[-1.0, 0.0, +1.0]).rename_categories({-1.0: \"death\", 0.0: \"no change\", +1.0: \"discharge\"})\n",
    "fig, ax = plt.subplots(figsize=(7, 7))\n",
    "_ = sns.histplot(data=df, x=\"agent\", hue=\"reward\", palette=palette, multiple=\"dodge\", stat=\"probability\", shrink=0.8, alpha=1.0, ax=ax, discrete=True, cumulative=False, common_norm=False)\n",
    "_ = ax.set_title(plt_rewards_title)\n",
    "_ = ax.set_xlabel(plt_rewards_x_label)\n",
    "_ = ax.set_ylabel(plt_rewards_y_label)\n",
    "_ = ax.get_legend().set_title(plt_rewards_legend_title)\n",
    "_ = ax.yaxis.set_major_formatter(FormatStrFormatter('%.2f'))\n",
    "fig.savefig(plots_dir / \"plt_agents_observed_reward.pdf\", bbox_inches=\"tight\")"
   ]
  }
 ],
 "metadata": {
  "kernelspec": {
   "display_name": "mpi-ase",
   "language": "python",
   "name": "python3"
  },
  "language_info": {
   "codemirror_mode": {
    "name": "ipython",
    "version": 3
   },
   "file_extension": ".py",
   "mimetype": "text/x-python",
   "name": "python",
   "nbconvert_exporter": "python",
   "pygments_lexer": "ipython3",
   "version": "3.9.13"
  },
  "orig_nbformat": 4
 },
 "nbformat": 4,
 "nbformat_minor": 2
}
